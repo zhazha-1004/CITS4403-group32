{
 "cells": [
  {
   "cell_type": "markdown",
   "metadata": {},
   "source": [
    "# Epidemiological Modeling Analysis\n",
    "\n",
    "This notebook provides a comprehensive analysis of epidemic models including SIR, SEIR, and network-based models with various intervention scenarios.\n"
   ]
  },
  {
   "cell_type": "code",
   "execution_count": null,
   "metadata": {},
   "outputs": [],
   "source": [
    "import numpy as np\n",
    "import pandas as pd\n",
    "import matplotlib.pyplot as plt\n",
    "import seaborn as sns\n",
    "import sys\n",
    "import os\n",
    "\n",
    "# Add project root to path\n",
    "sys.path.append('..')\n",
    "\n",
    "# Import project modules\n",
    "from src.models.sir_model import SIRModel\n",
    "from src.models.seir_model import SEIRModel\n",
    "from src.models.network_model import NetworkEpidemicModel\n",
    "from src.scenarios.baseline import BaselineScenario, BaselineSEIRScenario\n",
    "from src.scenarios.interventions import (\n",
    "    ContactReductionScenario, VaccinationScenario, \n",
    "    CombinedInterventionScenario, FasterIsolationScenario\n",
    ")\n",
    "from src.analysis.metrics import compare_scenarios, calculate_all_metrics\n",
    "from src.analysis.sensitivity import SensitivityAnalyzer\n",
    "from utils.visualization import (\n",
    "    plot_sir_timeseries, plot_seir_timeseries, \n",
    "    plot_infection_comparison, create_summary_dashboard\n",
    ")\n",
    "\n",
    "# Set up plotting\n",
    "plt.style.use('seaborn-v0_8')\n",
    "sns.set_palette(\"husl\")\n",
    "plt.rcParams['figure.figsize'] = (12, 8)\n",
    "\n",
    "print(\"All modules imported successfully!\")\n"
   ]
  },
  {
   "cell_type": "markdown",
   "metadata": {},
   "source": [
    "## 1. Basic Model Comparison\n",
    "\n",
    "Let's start by comparing the basic SIR and SEIR models with the same parameters.\n"
   ]
  },
  {
   "cell_type": "code",
   "execution_count": null,
   "metadata": {},
   "outputs": [],
   "source": [
    "# Create and run basic models\n",
    "sir_model = SIRModel(N=10000, beta=0.30, gamma=0.10, I0=10)\n",
    "seir_model = SEIRModel(N=10000, beta=0.30, sigma=0.20, gamma=0.10, I0=10)\n",
    "\n",
    "print(\"Running SIR model...\")\n",
    "sir_results = sir_model.simulate(120)\n",
    "\n",
    "print(\"Running SEIR model...\")\n",
    "seir_results = seir_model.simulate(120)\n",
    "\n",
    "# Calculate metrics\n",
    "sir_metrics = calculate_all_metrics(sir_results, 10000)\n",
    "seir_metrics = calculate_all_metrics(seir_results, 10000)\n",
    "\n",
    "print(f\"\\nSIR Model Results:\")\n",
    "print(f\"  Peak infection: {sir_metrics['peak_infection_proportion']:.3f}\")\n",
    "print(f\"  Time to peak: {sir_metrics['time_to_peak']:.0f} days\")\n",
    "print(f\"  Final epidemic size: {sir_metrics['final_epidemic_size']:.3f}\")\n",
    "\n",
    "print(f\"\\nSEIR Model Results:\")\n",
    "print(f\"  Peak infection: {seir_metrics['peak_infection_proportion']:.3f}\")\n",
    "print(f\"  Time to peak: {seir_metrics['time_to_peak']:.0f} days\")\n",
    "print(f\"  Final epidemic size: {seir_metrics['final_epidemic_size']:.3f}\")\n"
   ]
  },
  {
   "cell_type": "markdown",
   "metadata": {},
   "source": []
  },
  {
   "cell_type": "markdown",
   "metadata": {},
   "source": [
    "# Epidemiological Modeling Project: Impact of Contact Reduction, Faster Isolation and Vaccination on Urban Outbreak Dynamics\n",
    "\n",
    "This notebook demonstrates the analysis of different intervention measures on epidemic transmission using discrete-time SIR/SEIR models.\n",
    "\n",
    "## Project Objectives\n",
    "- Establish discrete-time SIR and SEIR models\n",
    "- Compare the effects of different intervention scenarios\n",
    "- Analyze sensitivity of key parameters\n",
    "- Provide policy recommendations\n"
   ]
  },
  {
   "cell_type": "code",
   "execution_count": null,
   "metadata": {},
   "outputs": [],
   "source": [
    "# Import necessary libraries\n",
    "import sys\n",
    "import os\n",
    "sys.path.append('..')\n",
    "\n",
    "import numpy as np\n",
    "import pandas as pd\n",
    "import matplotlib.pyplot as plt\n",
    "import seaborn as sns\n",
    "from IPython.display import display, HTML\n",
    "\n",
    "# Import project modules\n",
    "from src.models.sir_model import SIRModel\n",
    "from src.models.seir_model import SEIRModel\n",
    "from src.scenarios.baseline import BaselineScenario, BaselineSEIRScenario, run_baseline_comparison\n",
    "from src.scenarios.interventions import (\n",
    "    ContactReductionScenario, FasterIsolationScenario, \n",
    "    VaccinationScenario, CombinedInterventionScenario,\n",
    "    run_all_intervention_scenarios\n",
    ")\n",
    "from src.analysis.metrics import calculate_all_metrics, compare_scenarios\n",
    "from src.analysis.sensitivity import SensitivityAnalyzer, compare_model_sensitivity\n",
    "from utils.visualization import (\n",
    "    plot_sir_timeseries, plot_seir_timeseries, plot_infection_comparison,\n",
    "    plot_metrics_comparison, plot_sensitivity_analysis, create_summary_dashboard\n",
    ")\n",
    "\n",
    "# Set plotting style\n",
    "plt.rcParams['figure.figsize'] = (12, 8)\n",
    "plt.rcParams['font.size'] = 12\n",
    "sns.set_style(\"whitegrid\")\n",
    "\n",
    "print(\"All modules imported successfully!\")\n"
   ]
  }
 ],
 "metadata": {
  "language_info": {
   "name": "python"
  }
 },
 "nbformat": 4,
 "nbformat_minor": 2
}