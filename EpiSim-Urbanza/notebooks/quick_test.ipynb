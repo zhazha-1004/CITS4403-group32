{
  "cells": [
    {
      "cell_type": "markdown",
      "metadata": {},
      "source": [
        "# Quick Test of Project Code\n",
        "\n",
        "This notebook is used for quick testing of the project's core functionality.\n"
      ]
    },
    {
      "cell_type": "code",
      "execution_count": null,
      "metadata": {},
      "outputs": [],
      "source": [
        "import sys\n",
        "sys.path.append('..')\n",
        "\n",
        "from src.models.sir_model import SIRModel\n",
        "from src.scenarios.baseline import BaselineScenario\n",
        "\n",
        "print(\"Testing SIR model...\")\n",
        "model = SIRModel()\n",
        "results = model.simulate(30)\n",
        "print(f\"Simulation completed, data shape: {results.shape}\")\n",
        "print(f\"Infection peak: {results['I_prop'].max():.3f}\")\n",
        "\n",
        "print(\"\\nTesting baseline scenario...\")\n",
        "scenario = BaselineScenario()\n",
        "metrics = scenario.get_metrics()\n",
        "print(f\"Scenario description: {scenario.get_description()}\")\n",
        "print(f\"Key metrics: peak={metrics['peak_infection_proportion']:.3f}\")\n",
        "\n",
        "print(\"\\nAll tests passed!\")\n"
      ]
    }
  ],
  "metadata": {
    "language_info": {
      "name": "python"
    }
  },
  "nbformat": 4,
  "nbformat_minor": 2
}
